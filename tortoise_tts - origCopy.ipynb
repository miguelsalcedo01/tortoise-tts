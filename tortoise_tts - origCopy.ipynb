{
  "cells": [
    {
      "attachments": {},
      "cell_type": "markdown",
      "metadata": {
        "id": "_pIZ3ZXNp7cf"
      },
      "source": [
        "Welcome to Tortoise! 🐢🐢🐢🐢\n",
        "\n",
        "Before you begin, I **strongly** recommend you turn on a GPU runtime.\n",
        "\n",
        "There's a reason this is called \"Tortoise\" - this model takes up to a minute to perform inference for a single sentence on a GPU. Expect waits on the order of hours on a CPU."
      ]
    },
    {
      "cell_type": "code",
      "execution_count": null,
      "metadata": {
        "id": "JrK20I32grP6"
      },
      "outputs": [],
      "source": [
        "!pip3 install -U scipy\n",
        "!git clone https://github.com/jnordberg/tortoise-tts.git\n",
        "%cd tortoise-tts\n",
        "!pip3 install transformers==4.19.0\n",
        "!pip3 install -r requirements.txt\n",
        "!pip3 install einops==0.5.0\n",
        "!pip3 install rotary_embedding_torch==0.1.5\n",
        "!pip3 install unidecode==1.3.5\n",
        "!python3 setup.py install"
      ]
    },
    {
      "cell_type": "code",
      "execution_count": null,
      "metadata": {
        "id": "Gen09NM4hONQ"
      },
      "outputs": [],
      "source": [
        "# Imports used through the rest of the notebook.\n",
        "import torch\n",
        "import torchaudio\n",
        "import torch.nn as nn\n",
        "import torch.nn.functional as F\n",
        "\n",
        "import IPython\n",
        "\n",
        "from tortoise.api import TextToSpeech\n",
        "from tortoise.utils.audio import load_audio, load_voice, load_voices\n",
        "\n",
        "# This will download all the models used by Tortoise from the HF hub.\n",
        "tts = TextToSpeech()"
      ]
    },
    {
      "cell_type": "code",
      "execution_count": null,
      "metadata": {
        "id": "bt_aoxONjfL2"
      },
      "outputs": [],
      "source": [
        "# This is the text that will be spoken.\n",
        "text = \"Joining two modalities results in a surprising increase in generalization! What would happen if we combined them all?\"\n",
        "\n",
        "# Here's something for the poetically inclined.. (set text=)\n",
        "\"\"\"\n",
        "Then took the other, as just as fair,\n",
        "And having perhaps the better claim,\n",
        "Because it was grassy and wanted wear;\n",
        "Though as for that the passing there\n",
        "Had worn them really about the same,\"\"\"\n",
        "\n",
        "# Pick a \"preset mode\" to determine quality. Options: {\"ultra_fast\", \"fast\" (default), \"standard\", \"high_quality\"}. See docs in api.py\n",
        "preset = \"fast\""
      ]
    },
    {
      "cell_type": "code",
      "execution_count": null,
      "metadata": {},
      "outputs": [],
      "source": [
        "#optionally, upload use your own voice by running the net two cells. I recommend \n",
        "#you upload at least 5 audio clips. they must be a wav file, 22020 hz and 6-10 secs long.\n",
        "CUSTOM_VOICE_NAME = \"teena\"\n",
        "\n",
        "import os\n",
        "from google.colab import files\n",
        "\n",
        "custom_voice_folder = f\"tortoise/voices/{CUSTOM_VOICE_NAME}\"\n",
        "OS.makedirs(custom_voice_folder)\n",
        "for i, file_data in enumerate(files.upload().values()):\n",
        "    with open(os.path.join()custom_voice_folder, f'{i}.wav'), 'wb') as f: f.write(file_data)\"\n",
        "    "
      ]
    },
    {
      "cell_type": "code",
      "execution_count": null,
      "metadata": {
        "id": "SSleVnRAiEE2"
      },
      "outputs": [],
      "source": [
        "# Tortoise will attempt to mimic voices you provide. It comes pre-packaged\n",
        "# with some voices you might recognize.\n",
        "\n",
        "# Let's list all the voices available. These are just some random clips I've gathered\n",
        "# from the internet as well as a few voices from the training dataset.\n",
        "# Feel free to add your own clips to the voices/ folder.\n",
        "%ls tortoise/voices\n",
        "\n",
        "IPython.display.Audio('tortoise/voices/tom/1.wav')"
      ]
    },
    {
      "cell_type": "code",
      "execution_count": null,
      "metadata": {
        "id": "KEXOKjIvn6NW"
      },
      "outputs": [],
      "source": [
        "# Pick one of the voices from the output above\n",
        "voice = 'tom'\n",
        "\n",
        "# Load it and send it through Tortoise.\n",
        "voice_samples, conditioning_latents = load_voice(voice)\n",
        "gen = tts.tts_with_preset(text, voice_samples=voice_samples, conditioning_latents=conditioning_latents, \n",
        "                          preset=preset)\n",
        "torchaudio.save('generated.wav', gen.squeeze(0).cpu(), 24000)\n",
        "IPython.display.Audio('generated.wav')"
      ]
    },
    {
      "cell_type": "code",
      "execution_count": null,
      "metadata": {},
      "outputs": [],
      "source": [
        "# Tortoise can also generate speech using with custom voice files. \n",
        "# voice_samples, conditioning_latents = load_voice(CUSTOM_VOICE_NAME)\n",
        "gen = tts.tts_with_preset(text, voice_samples=voice_samples, conditioning_latents=conditioning_latents, preset=preset)\n",
        "torchaudio.save(f'generated-{CUSTOM_VOICE_NAME}.wav', gen.squeeze(0).cpu(), 24000)\n",
        "IPython.display.Audio(f'generated-{CUSTOM_VOICE_NAME}.wav')"
      ]
    },
    {
      "cell_type": "code",
      "execution_count": null,
      "metadata": {
        "id": "16Xs2SSC3BXa"
      },
      "outputs": [],
      "source": [
        "# Tortoise can also generate speech using a random voice. The voice changes each time you execute this!\n",
        "# (Note: random voices can be prone to strange utterances)\n",
        "gen = tts.tts_with_preset(text, voice_samples=None, conditioning_latents=None, preset=preset)\n",
        "torchaudio.save('generated.wav', gen.squeeze(0).cpu(), 24000)\n",
        "IPython.display.Audio('generated.wav')"
      ]
    },
    {
      "cell_type": "code",
      "execution_count": null,
      "metadata": {
        "id": "fYTk8KUezUr5"
      },
      "outputs": [],
      "source": [
        "# You can also combine conditioning voices. Combining voices produces a new voice\n",
        "# with traits from all the parents.\n",
        "#\n",
        "# Lets see what it would sound like if Picard and Kirk had a kid with a penchant for philosophy:\n",
        "voice_samples, conditioning_latents = load_voices(['pat', 'william'])\n",
        "\n",
        "gen = tts.tts_with_preset(\"They used to say that if man was meant to fly, he’d have wings. But he did fly. He discovered he had to.\", \n",
        "                          voice_samples=None, conditioning_latents=None, preset=preset)\n",
        "torchaudio.save('captain_kirkard.wav', gen.squeeze(0).cpu(), 24000)\n",
        "IPython.display.Audio('captain_kirkard.wav')"
      ]
    },
    {
      "cell_type": "code",
      "execution_count": null,
      "metadata": {
        "id": "t66yqWgu68KL"
      },
      "outputs": [],
      "source": [
        "del tts  # Will break other cells, but necessary to conserve RAM if you want to run this cell.\n",
        "\n",
        "# Tortoise comes with some scripts that does a lot of the lifting for you. For example,\n",
        "# read.py will read a text file for you.\n",
        "!python3 tortoise/read.py --voice=train_atkins --textfile=tortoise/data/riding_hood.txt --preset=ultra_fast --output_path=.\n",
        "\n",
        "IPython.display.Audio('train_atkins/combined.wav')\n",
        "# This will take awhile.."
      ]
    }
  ],
  "metadata": {
    "accelerator": "GPU",
    "colab": {
      "collapsed_sections": [],
      "name": "tortoise-tts.ipynb",
      "provenance": []
    },
    "kernelspec": {
      "display_name": "Python 3",
      "name": "python3"
    },
    "language_info": {
      "name": "python"
    }
  },
  "nbformat": 4,
  "nbformat_minor": 0
}
